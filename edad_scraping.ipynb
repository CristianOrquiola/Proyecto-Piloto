{
 "cells": [
  {
   "cell_type": "code",
   "execution_count": 4,
   "id": "a33029e3-3848-44a5-80e0-00dab7035235",
   "metadata": {},
   "outputs": [],
   "source": [
    "from selenium import webdriver\n",
    "from selenium.webdriver.chrome.service import Service\n",
    "from selenium.webdriver.chrome.options import Options\n",
    "from selenium.common.exceptions import NoSuchElementException\n",
    "import pandas as pd\n",
    "from time import sleep\n",
    "\n",
    "\n",
    "options = Options()\n",
    "options.add_argument(\"--disable-blink-features=AutomationControlled\")\n",
    "path = \"webDriver/chromedriver\"\n",
    "service = Service(executable_path=path)\n",
    "driver = webdriver.Chrome(service=service, options=options)\n",
    "\n",
    "\n",
    "def obtener_edad(jugador):\n",
    "    web = f\"https://www.google.com/search?q={jugador}+edad+futbol\"\n",
    "    driver.get(web)\n",
    "\n",
    "    edad = []\n",
    "    nacimiento = []\n",
    "\n",
    "    try:\n",
    "        nacimiento.append(driver.find_element(\n",
    "            by='xpath', value='//div[@class=\"Z0LcW t2b5Cf\"] | //div[@class=\"Z0LcW t2b5Cf CfV8xf\"]').text)\n",
    "        edad.append(driver.find_element(\n",
    "            by='xpath', value='//div[@class=\"yxAsKe kZ91ed\"]').text)\n",
    "\n",
    "    except NoSuchElementException:\n",
    "        nacimiento.append(\"NA\")\n",
    "        edad.append(\"NA\")\n",
    "\n",
    "    dict_football = {'fecha_nacimiento': nacimiento, 'edad': edad}\n",
    "    df_football = pd.DataFrame(dict_football)\n",
    "    df_football['jugador'] = jugador\n",
    "    sleep(6)\n",
    "    return df_football\n",
    "\n",
    "\n",
    "df = pd.read_csv(\"Dataset/nombre_jugadores.csv\")\n",
    "jugadores = df['algo'].unique()\n",
    "\n",
    "jugador = [obtener_edad(jugador) for jugador in jugadores]\n",
    "driver.quit()\n",
    "df_jugador = pd.concat(jugador, ignore_index=True)\n",
    "df_jugador.to_csv(\"edad_jugadores10.csv\", index=False)"
   ]
  },
  {
   "cell_type": "code",
   "execution_count": null,
   "id": "a3bda044-0055-42be-a484-f3268b58ccc6",
   "metadata": {},
   "outputs": [],
   "source": []
  }
 ],
 "metadata": {
  "kernelspec": {
   "display_name": "Python 3 (ipykernel)",
   "language": "python",
   "name": "python3"
  },
  "language_info": {
   "codemirror_mode": {
    "name": "ipython",
    "version": 3
   },
   "file_extension": ".py",
   "mimetype": "text/x-python",
   "name": "python",
   "nbconvert_exporter": "python",
   "pygments_lexer": "ipython3",
   "version": "3.11.0"
  }
 },
 "nbformat": 4,
 "nbformat_minor": 5
}
