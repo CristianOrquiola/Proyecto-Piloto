{
 "cells": [
  {
   "cell_type": "code",
   "execution_count": 2,
   "id": "afb48da3-9eb5-4a19-880e-8faad468d336",
   "metadata": {},
   "outputs": [
    {
     "data": {
      "text/html": [
       "        <script type=\"text/javascript\">\n",
       "        window.PlotlyConfig = {MathJaxConfig: 'local'};\n",
       "        if (window.MathJax && window.MathJax.Hub && window.MathJax.Hub.Config) {window.MathJax.Hub.Config({SVG: {font: \"STIX-Web\"}});}\n",
       "        if (typeof require !== 'undefined') {\n",
       "        require.undef(\"plotly\");\n",
       "        requirejs.config({\n",
       "            paths: {\n",
       "                'plotly': ['https://cdn.plot.ly/plotly-2.16.1.min']\n",
       "            }\n",
       "        });\n",
       "        require(['plotly'], function(Plotly) {\n",
       "            window._Plotly = Plotly;\n",
       "        });\n",
       "        }\n",
       "        </script>\n",
       "        "
      ]
     },
     "metadata": {},
     "output_type": "display_data"
    }
   ],
   "source": [
    "import numpy as np \n",
    "import pandas as pd \n",
    "import random\n",
    "import seaborn as sns\n",
    "import matplotlib.pyplot as plt\n",
    "%matplotlib inline\n",
    "from plotly.offline import download_plotlyjs, init_notebook_mode, plot, iplot\n",
    "import plotly.offline as py\n",
    "py.init_notebook_mode(connected=True)\n",
    "import plotly.graph_objs as go\n",
    "from subprocess import check_output"
   ]
  },
  {
   "cell_type": "code",
   "execution_count": 3,
   "id": "bdfb7a68-e2a1-4075-9f9b-ebc771032f7d",
   "metadata": {},
   "outputs": [],
   "source": [
    "df_events = pd.read_csv(\"Dataset/events.csv\")\n",
    "df_ginf = pd.read_csv(\"dataset/ginf.csv\")\n",
    "## Seleccionar solo las funciones que necesito. `id_odsp` sirve como un identificador único que se utilizará para\n",
    "## unión de los 2 conjuntos de datos\n",
    "df_ginf = df_ginf[['id_odsp' , 'date' , 'league' , 'season' , 'country']]\n",
    "\n",
    "#unir los 2 dataset\n",
    "df_events = df_events.merge(df_ginf, how='left')\n",
    "\n",
    "df_edad_jugadores = pd.read_csv(\"Dataset/edad_jugadores.csv\" , delimiter=\",\")"
   ]
  },
  {
   "cell_type": "code",
   "execution_count": 7,
   "id": "d762aaea-396a-483c-bc5f-9eaa9847cdc5",
   "metadata": {},
   "outputs": [
    {
     "data": {
      "text/plain": [
       "Index(['id_odsp', 'id_event', 'sort_order', 'time', 'text', 'event_type',\n",
       "       'event_type2', 'side', 'event_team', 'opponent', 'player', 'player2',\n",
       "       'player_in', 'player_out', 'shot_place', 'shot_outcome', 'is_goal',\n",
       "       'location', 'bodypart', 'assist_method', 'situation', 'fast_break',\n",
       "       'date', 'league', 'season', 'country'],\n",
       "      dtype='object')"
      ]
     },
     "execution_count": 7,
     "metadata": {},
     "output_type": "execute_result"
    }
   ],
   "source": [
    "df_events.columns"
   ]
  },
  {
   "cell_type": "code",
   "execution_count": 30,
   "id": "fc514d18-ee98-4dd5-ba86-bfa81ca3905e",
   "metadata": {},
   "outputs": [
    {
     "name": "stdout",
     "output_type": "stream",
     "text": [
      "2.0    92827\n",
      "1.0    54198\n",
      "3.0    54082\n",
      "4.0     3575\n",
      "Name: shot_outcome, dtype: int64\n"
     ]
    }
   ],
   "source": [
    "#Evento de intento - donde no fue gol y tiro al arco\n",
    "df_shot_places = df_events[(df_events['event_type'] == 1) & \n",
    "                           (df_events['is_goal'] == 0)]['shot_outcome'].value_counts()\n",
    "print(df_shot_places)"
   ]
  },
  {
   "cell_type": "code",
   "execution_count": 54,
   "id": "18f076f7-a17d-4d32-a676-9594190f5fd0",
   "metadata": {},
   "outputs": [
    {
     "name": "stdout",
     "output_type": "stream",
     "text": [
      "90    28\n",
      "25    12\n",
      "53    12\n",
      "56    11\n",
      "79    10\n",
      "74    10\n",
      "59     9\n",
      "64     9\n",
      "45     9\n",
      "72     9\n",
      "43     9\n",
      "68     9\n",
      "77     9\n",
      "22     9\n",
      "40     9\n",
      "Name: time, dtype: int64\n"
     ]
    }
   ],
   "source": [
    "#Evento de intento - donde fue gol y agrupado por minutos en el que se hizo y el equpo es el Barca\n",
    "df_shot_places = df_events[(df_events['event_type'] == 1) & \n",
    "                           (df_events['is_goal'] == 1) & (df_events['event_team'] == 'Barcelona')]['time'].value_counts()\n",
    "print(df_shot_places.head(15))"
   ]
  },
  {
   "cell_type": "code",
   "execution_count": 37,
   "id": "5dadeb08-ee03-465c-b0e3-bbe2c1f86011",
   "metadata": {},
   "outputs": [],
   "source": [
    "def datos_jugador(nombre):\n",
    "    edad = df_edad_jugadores[(df_edad_jugadores['jugador'] == nombre)]['edad']\n",
    "    edad = [a for a in edad]\n",
    "    fecha_nacimiento = df_edad_jugadores[(df_edad_jugadores['jugador'] == nombre)]['fecha_nacimiento']\n",
    "    fecha_nacimiento = [a for a in fecha_nacimiento]\n",
    "    \n",
    "    goles = df_events[(df_events['is_goal'] == 1) & \n",
    "                           (df_events['player'] == nombre)]['is_goal'].sum()\n",
    "    asistencia_gol = df_events[(df_events['is_goal'] == 1) & \n",
    "                           (df_events['player2'] == 'julian schuster')]['is_goal'].sum()\n",
    "    amarilla = df_events[(df_events['event_type'] == 4) & \n",
    "                           (df_events['player'] == nombre)]['event_type'].sum()\n",
    "    segunda_amarilla = df_events[(df_events['event_type'] == 5) & \n",
    "                           (df_events['player'] == nombre)]['event_type'].sum()\n",
    "    tarjetas_rojas = df_events[(df_events['event_type'] == 6) & \n",
    "                           (df_events['player'] == nombre)]['event_type'].sum()\n",
    "    \n",
    "    \n",
    "    users = {nombre: [edad[0] , fecha_nacimiento[0] ,  goles ,'algo 1' , asistencia_gol , amarilla , segunda_amarilla , tarjetas_rojas]}\n",
    "    df = pd.DataFrame(users, index=['edad ', 'fecha de nacimiento' , 'cantidad de goles' , 'Equipo donde juega' , 'Asistencia' , 'primera amarilla' , 'segunda amarilla' , 'Tarjeta roja'])\n",
    "    return df"
   ]
  },
  {
   "cell_type": "markdown",
   "id": "f981c3e3-5c5d-4780-b81f-b28c07a651fa",
   "metadata": {},
   "source": [
    "<img src=data:image/jpeg;base64,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>"
   ]
  },
  {
   "cell_type": "code",
   "execution_count": 38,
   "id": "9227d5aa-8f72-42e1-9ffe-78291e0be157",
   "metadata": {},
   "outputs": [
    {
     "data": {
      "text/html": [
       "<div>\n",
       "<style scoped>\n",
       "    .dataframe tbody tr th:only-of-type {\n",
       "        vertical-align: middle;\n",
       "    }\n",
       "\n",
       "    .dataframe tbody tr th {\n",
       "        vertical-align: top;\n",
       "    }\n",
       "\n",
       "    .dataframe thead th {\n",
       "        text-align: right;\n",
       "    }\n",
       "</style>\n",
       "<table border=\"1\" class=\"dataframe\">\n",
       "  <thead>\n",
       "    <tr style=\"text-align: right;\">\n",
       "      <th></th>\n",
       "      <th>robert lewandowski</th>\n",
       "    </tr>\n",
       "  </thead>\n",
       "  <tbody>\n",
       "    <tr>\n",
       "      <th>edad</th>\n",
       "      <td>34 años</td>\n",
       "    </tr>\n",
       "    <tr>\n",
       "      <th>fecha de nacimiento</th>\n",
       "      <td>21 de agosto de 1988</td>\n",
       "    </tr>\n",
       "    <tr>\n",
       "      <th>cantidad de goles</th>\n",
       "      <td>124</td>\n",
       "    </tr>\n",
       "    <tr>\n",
       "      <th>Equipo donde juega</th>\n",
       "      <td>algo 1</td>\n",
       "    </tr>\n",
       "    <tr>\n",
       "      <th>Asistencia</th>\n",
       "      <td>8</td>\n",
       "    </tr>\n",
       "    <tr>\n",
       "      <th>primera amarilla</th>\n",
       "      <td>48</td>\n",
       "    </tr>\n",
       "    <tr>\n",
       "      <th>segunda amarilla</th>\n",
       "      <td>0</td>\n",
       "    </tr>\n",
       "    <tr>\n",
       "      <th>Tarjeta roja</th>\n",
       "      <td>6</td>\n",
       "    </tr>\n",
       "  </tbody>\n",
       "</table>\n",
       "</div>"
      ],
      "text/plain": [
       "                       robert lewandowski\n",
       "edad                              34 años\n",
       "fecha de nacimiento  21 de agosto de 1988\n",
       "cantidad de goles                     124\n",
       "Equipo donde juega                 algo 1\n",
       "Asistencia                              8\n",
       "primera amarilla                       48\n",
       "segunda amarilla                        0\n",
       "Tarjeta roja                            6"
      ]
     },
     "execution_count": 38,
     "metadata": {},
     "output_type": "execute_result"
    }
   ],
   "source": [
    "datos_jugador(\"robert lewandowski\")"
   ]
  },
  {
   "cell_type": "code",
   "execution_count": 41,
   "id": "0f30ad1f-b918-4092-aa8a-714f853c1a79",
   "metadata": {},
   "outputs": [
    {
     "data": {
      "text/html": [
       "<div>\n",
       "<style scoped>\n",
       "    .dataframe tbody tr th:only-of-type {\n",
       "        vertical-align: middle;\n",
       "    }\n",
       "\n",
       "    .dataframe tbody tr th {\n",
       "        vertical-align: top;\n",
       "    }\n",
       "\n",
       "    .dataframe thead th {\n",
       "        text-align: right;\n",
       "    }\n",
       "</style>\n",
       "<table border=\"1\" class=\"dataframe\">\n",
       "  <thead>\n",
       "    <tr style=\"text-align: right;\">\n",
       "      <th></th>\n",
       "      <th>cesar</th>\n",
       "    </tr>\n",
       "  </thead>\n",
       "  <tbody>\n",
       "    <tr>\n",
       "      <th>edad</th>\n",
       "      <td>54 años</td>\n",
       "    </tr>\n",
       "    <tr>\n",
       "      <th>fecha de nacimiento</th>\n",
       "      <td>31 de marzo de 1968</td>\n",
       "    </tr>\n",
       "    <tr>\n",
       "      <th>cantidad de goles</th>\n",
       "      <td>0</td>\n",
       "    </tr>\n",
       "    <tr>\n",
       "      <th>Equipo donde juega</th>\n",
       "      <td>algo 1</td>\n",
       "    </tr>\n",
       "    <tr>\n",
       "      <th>Asistencia</th>\n",
       "      <td>8</td>\n",
       "    </tr>\n",
       "    <tr>\n",
       "      <th>primera amarilla</th>\n",
       "      <td>4</td>\n",
       "    </tr>\n",
       "    <tr>\n",
       "      <th>segunda amarilla</th>\n",
       "      <td>0</td>\n",
       "    </tr>\n",
       "    <tr>\n",
       "      <th>Tarjeta roja</th>\n",
       "      <td>6</td>\n",
       "    </tr>\n",
       "  </tbody>\n",
       "</table>\n",
       "</div>"
      ],
      "text/plain": [
       "                                   cesar\n",
       "edad                             54 años\n",
       "fecha de nacimiento  31 de marzo de 1968\n",
       "cantidad de goles                      0\n",
       "Equipo donde juega                algo 1\n",
       "Asistencia                             8\n",
       "primera amarilla                       4\n",
       "segunda amarilla                       0\n",
       "Tarjeta roja                           6"
      ]
     },
     "execution_count": 41,
     "metadata": {},
     "output_type": "execute_result"
    }
   ],
   "source": [
    "datos_jugador(\"cesar\")"
   ]
  },
  {
   "cell_type": "code",
   "execution_count": 72,
   "id": "c322c67a-11fe-4215-93a2-128ba7d20105",
   "metadata": {},
   "outputs": [
    {
     "name": "stdout",
     "output_type": "stream",
     "text": [
      "event_team                season\n",
      "Borussia Dortmund         2012      39\n",
      "                          2013      38\n",
      "Schalke 04                2014      30\n",
      "                          2015       7\n",
      "                          2012       4\n",
      "VfL Wolfsburg             2013       4\n",
      "Bayer Leverkusen          2013       3\n",
      "VfL Wolfsburg             2015       3\n",
      "Borussia Monchengladbach  2014       3\n",
      "Fortuna Dusseldorf        2013       2\n",
      "SC Freiburg               2014       2\n",
      "VfL Wolfsburg             2014       2\n",
      "Borussia Monchengladbach  2012       2\n",
      "VfB Stuttgart             2013       2\n",
      "TSG Hoffenheim            2012       2\n",
      "SC Paderborn              2015       2\n",
      "Nurnberg                  2014       2\n",
      "Bayer Leverkusen          2014       2\n",
      "Kaiserslautern            2012       2\n",
      "Hannover 96               2013       2\n",
      "Nurnberg                  2013       2\n",
      "SC Freiburg               2012       1\n",
      "Hamburg SV                2012       1\n",
      "FC Augsburg               2014       1\n",
      "                          2012       1\n",
      "Mainz                     2014       1\n",
      "VfL Wolfsburg             2012       1\n",
      "dtype: int64\n"
     ]
    }
   ],
   "source": [
    "equipo = df_events[(df_events['player'] == 'felipe santana')][['event_team', 'season']].value_counts()\n",
    "print(equipo)"
   ]
  },
  {
   "cell_type": "code",
   "execution_count": 40,
   "id": "5f5a74e9-2495-4198-84ec-048be895e574",
   "metadata": {},
   "outputs": [
    {
     "data": {
      "text/html": [
       "<div>\n",
       "<style scoped>\n",
       "    .dataframe tbody tr th:only-of-type {\n",
       "        vertical-align: middle;\n",
       "    }\n",
       "\n",
       "    .dataframe tbody tr th {\n",
       "        vertical-align: top;\n",
       "    }\n",
       "\n",
       "    .dataframe thead th {\n",
       "        text-align: right;\n",
       "    }\n",
       "</style>\n",
       "<table border=\"1\" class=\"dataframe\">\n",
       "  <thead>\n",
       "    <tr style=\"text-align: right;\">\n",
       "      <th></th>\n",
       "      <th>felipe santana</th>\n",
       "    </tr>\n",
       "  </thead>\n",
       "  <tbody>\n",
       "    <tr>\n",
       "      <th>edad</th>\n",
       "      <td>36 años</td>\n",
       "    </tr>\n",
       "    <tr>\n",
       "      <th>fecha de nacimiento</th>\n",
       "      <td>17 de marzo de 1986</td>\n",
       "    </tr>\n",
       "    <tr>\n",
       "      <th>cantidad de goles</th>\n",
       "      <td>5</td>\n",
       "    </tr>\n",
       "    <tr>\n",
       "      <th>Equipo donde juega</th>\n",
       "      <td>algo 1</td>\n",
       "    </tr>\n",
       "    <tr>\n",
       "      <th>Asistencia</th>\n",
       "      <td>8</td>\n",
       "    </tr>\n",
       "    <tr>\n",
       "      <th>primera amarilla</th>\n",
       "      <td>24</td>\n",
       "    </tr>\n",
       "    <tr>\n",
       "      <th>segunda amarilla</th>\n",
       "      <td>0</td>\n",
       "    </tr>\n",
       "    <tr>\n",
       "      <th>Tarjeta roja</th>\n",
       "      <td>0</td>\n",
       "    </tr>\n",
       "  </tbody>\n",
       "</table>\n",
       "</div>"
      ],
      "text/plain": [
       "                          felipe santana\n",
       "edad                             36 años\n",
       "fecha de nacimiento  17 de marzo de 1986\n",
       "cantidad de goles                      5\n",
       "Equipo donde juega                algo 1\n",
       "Asistencia                             8\n",
       "primera amarilla                      24\n",
       "segunda amarilla                       0\n",
       "Tarjeta roja                           0"
      ]
     },
     "execution_count": 40,
     "metadata": {},
     "output_type": "execute_result"
    }
   ],
   "source": [
    "datos_jugador(\"felipe santana\")"
   ]
  },
  {
   "cell_type": "code",
   "execution_count": 42,
   "id": "3b379988-ed31-4db0-9e76-50e69b551dd2",
   "metadata": {},
   "outputs": [
    {
     "ename": "SyntaxError",
     "evalue": "invalid syntax (2794366664.py, line 7)",
     "output_type": "error",
     "traceback": [
      "\u001b[1;36m  Cell \u001b[1;32mIn [42], line 7\u001b[1;36m\u001b[0m\n\u001b[1;33m    pie =\u001b[0m\n\u001b[1;37m          ^\u001b[0m\n\u001b[1;31mSyntaxError\u001b[0m\u001b[1;31m:\u001b[0m invalid syntax\n"
     ]
    }
   ],
   "source": [
    "\n",
    "pie_dominante = df_events[(df_events['player'] == 'felipe santana')]['bodypart'].value_counts()\n",
    "verdad = pie_dominante.index == 3.0\n",
    "print(pie_dominante)\n",
    "if verdad[0] == True:\n",
    "    pie = pie_dominante[1]\n",
    "else:\n",
    "    pie = \n",
    "    "
   ]
  },
  {
   "cell_type": "code",
   "execution_count": 36,
   "id": "60fb9037",
   "metadata": {},
   "outputs": [
    {
     "name": "stdout",
     "output_type": "stream",
     "text": [
      "17 de marzo de 1986\n"
     ]
    }
   ],
   "source": [
    "df_edad_jugadores.columns\n",
    "\n",
    "#print(df_edad_jugadores.isnull().sum()) # hay 329 registro nulos\n",
    "\n",
    "#edad = df_edad_jugadores['edad'].head(1)\n",
    "#print(edad)\n",
    "#print(edad + \" esta es la edad de \" + \"felipe santana\")\n",
    "\n",
    "fecha_nacimiento = df_edad_jugadores[(df_edad_jugadores['jugador'] == (\"felipe santana\"))]['fecha_nacimiento']\n",
    "fecha_nacimiento = [a for a in fecha_nacimiento]\n",
    "print(fecha_nacimiento[0])"
   ]
  },
  {
   "cell_type": "code",
   "execution_count": 180,
   "id": "fbf19c74-965c-4dba-9711-5e99285cb385",
   "metadata": {},
   "outputs": [
    {
     "name": "stdout",
     "output_type": "stream",
     "text": [
      "Int64Index([17], dtype='int64')\n",
      "17    esta noche es 36 años\n",
      "Name: edad, dtype: object\n"
     ]
    }
   ],
   "source": [
    "fecha_nacimiento = df_edad_jugadores['edad'][df_edad_jugadores.jugador == \"felipe santana\"].index\n",
    "print(fecha_nacimiento)\n",
    "algo = df_edad_jugadores['edad'][fecha_nacimiento]\n",
    "print(\"esta noche es \" + algo)"
   ]
  },
  {
   "cell_type": "code",
   "execution_count": 141,
   "id": "2fbb6d76-2564-4dee-a5bd-4c1c1d79a192",
   "metadata": {},
   "outputs": [
    {
     "name": "stdout",
     "output_type": "stream",
     "text": [
      "3\n"
     ]
    }
   ],
   "source": [
    "# Penalties\n",
    "penalties=df_events[df_events[\"location\"]==14]\n",
    "#print(penalties)\n",
    "\n",
    "player_pen=penalties[penalties[\"player\"]==\"lionel messi\"]\n",
    "scored_pen=player_pen[player_pen[\"is_goal\"]==1]\n",
    "missed_pen=player_pen[player_pen[\"is_goal\"]==0]\n",
    "    \n",
    "top_left_rightfoot=scored_pen[scored_pen[\"shot_place\"]==12][scored_pen[\"bodypart\"]==2].shape[0]\n",
    "#print(player_pen)\n",
    "#print(scored_pen)\n",
    "#print(missed_pen)\n",
    "print(top_left_rightfoot)"
   ]
  },
  {
   "cell_type": "code",
   "execution_count": 48,
   "id": "424e401c-5336-4e23-833b-9ebbb43bc875",
   "metadata": {},
   "outputs": [],
   "source": [
    "# Function to calculate missing values by column# Funct \n",
    "def missing_values_table(df):\n",
    "        # Total missing values\n",
    "        mis_val = df.isnull().sum()\n",
    "        \n",
    "        # Percentage of missing values\n",
    "        mis_val_percent = 100 * df.isnull().sum() / len(df)\n",
    "        \n",
    "        # Make a table with the results\n",
    "        mis_val_table = pd.concat([mis_val, mis_val_percent], axis=1)\n",
    "        \n",
    "        # Rename the columns\n",
    "        mis_val_table_ren_columns = mis_val_table.rename(\n",
    "        columns = {0 : 'Missing Values', 1 : '% of Total Values'})\n",
    "        \n",
    "        # Sort the table by percentage of missing descending\n",
    "        mis_val_table_ren_columns = mis_val_table_ren_columns[\n",
    "            mis_val_table_ren_columns.iloc[:,1] != 0].sort_values(\n",
    "        '% of Total Values', ascending=False).round(1)\n",
    "        \n",
    "        # Print some summary information\n",
    "        print (\"Your selected dataframe has \" + str(df.shape[1]) + \" columns.\\n\"      \n",
    "            \"There are \" + str(mis_val_table_ren_columns.shape[0]) +\n",
    "              \" columns that have missing values.\")\n",
    "        \n",
    "        # Return the dataframe with missing information\n",
    "        return mis_val_table_ren_columns"
   ]
  },
  {
   "cell_type": "code",
   "execution_count": 49,
   "id": "8cf43a3a-7956-41bc-a53b-d1f8e26cc9f7",
   "metadata": {},
   "outputs": [
    {
     "name": "stdout",
     "output_type": "stream",
     "text": [
      "Your selected dataframe has 3 columns.\n",
      "There are 2 columns that have missing values.\n"
     ]
    },
    {
     "data": {
      "text/html": [
       "<div>\n",
       "<style scoped>\n",
       "    .dataframe tbody tr th:only-of-type {\n",
       "        vertical-align: middle;\n",
       "    }\n",
       "\n",
       "    .dataframe tbody tr th {\n",
       "        vertical-align: top;\n",
       "    }\n",
       "\n",
       "    .dataframe thead th {\n",
       "        text-align: right;\n",
       "    }\n",
       "</style>\n",
       "<table border=\"1\" class=\"dataframe\">\n",
       "  <thead>\n",
       "    <tr style=\"text-align: right;\">\n",
       "      <th></th>\n",
       "      <th>Missing Values</th>\n",
       "      <th>% of Total Values</th>\n",
       "    </tr>\n",
       "  </thead>\n",
       "  <tbody>\n",
       "    <tr>\n",
       "      <th>edad</th>\n",
       "      <td>329</td>\n",
       "      <td>5.4</td>\n",
       "    </tr>\n",
       "    <tr>\n",
       "      <th>fecha_nacimiento</th>\n",
       "      <td>329</td>\n",
       "      <td>5.4</td>\n",
       "    </tr>\n",
       "  </tbody>\n",
       "</table>\n",
       "</div>"
      ],
      "text/plain": [
       "                  Missing Values  % of Total Values\n",
       "edad                         329                5.4\n",
       "fecha_nacimiento             329                5.4"
      ]
     },
     "execution_count": 49,
     "metadata": {},
     "output_type": "execute_result"
    }
   ],
   "source": [
    "missing_values_table(df_edad_jugadores)"
   ]
  },
  {
   "cell_type": "code",
   "execution_count": 50,
   "id": "badab8cf-4347-403e-a2b8-ceae1dde0066",
   "metadata": {},
   "outputs": [
    {
     "name": "stdout",
     "output_type": "stream",
     "text": [
      "<class 'pandas.core.frame.DataFrame'>\n",
      "RangeIndex: 6118 entries, 0 to 6117\n",
      "Data columns (total 3 columns):\n",
      " #   Column            Non-Null Count  Dtype \n",
      "---  ------            --------------  ----- \n",
      " 0   edad              5789 non-null   object\n",
      " 1   fecha_nacimiento  5789 non-null   object\n",
      " 2   jugador           6118 non-null   object\n",
      "dtypes: object(3)\n",
      "memory usage: 143.5+ KB\n"
     ]
    }
   ],
   "source": [
    "df_edad_jugadores.info()"
   ]
  },
  {
   "cell_type": "code",
   "execution_count": 52,
   "id": "c2799fd5-ccb4-44e9-8574-0d35a2f7f9a9",
   "metadata": {},
   "outputs": [],
   "source": [
    "# Completa los null con 'Sin registro'\n",
    "df_edad_jugadores.edad.fillna('Sin registro', inplace= True)\n",
    "df_edad_jugadores.fecha_nacimiento.fillna('Sin registro', inplace= True)"
   ]
  },
  {
   "cell_type": "code",
   "execution_count": 53,
   "id": "c55cd423-d8b0-49d3-86ad-fdee3f9de641",
   "metadata": {},
   "outputs": [
    {
     "name": "stdout",
     "output_type": "stream",
     "text": [
      "<class 'pandas.core.frame.DataFrame'>\n",
      "RangeIndex: 6118 entries, 0 to 6117\n",
      "Data columns (total 3 columns):\n",
      " #   Column            Non-Null Count  Dtype \n",
      "---  ------            --------------  ----- \n",
      " 0   edad              6118 non-null   object\n",
      " 1   fecha_nacimiento  6118 non-null   object\n",
      " 2   jugador           6118 non-null   object\n",
      "dtypes: object(3)\n",
      "memory usage: 143.5+ KB\n"
     ]
    }
   ],
   "source": [
    "df_edad_jugadores.info()"
   ]
  },
  {
   "cell_type": "code",
   "execution_count": 44,
   "id": "3f1a2269-0a87-40f9-a15d-881bece50d0c",
   "metadata": {},
   "outputs": [],
   "source": [
    "# Get the yellow cards data\n",
    "\n",
    "first_yellow_cards = df_events [df_events ['event_type'] == (4)] # select first yellow cards\n",
    "second_yellow_cards= df_events [df_events ['event_type'] == (5)] # select second yellow cards\n",
    "red_cards = df_events [df_events['event_type'] == (6)] # select red cards\n",
    "yellow_cards= df_events [df_events ['event_type'] == (4 or 5)]\n",
    "\n",
    "card_frames = [red_cards, yellow_cards]\n",
    "all_cards = pd.concat(card_frames)"
   ]
  },
  {
   "cell_type": "code",
   "execution_count": 56,
   "id": "19fa7359-6ae2-4b89-8ab6-96f799f0bae9",
   "metadata": {},
   "outputs": [
    {
     "data": {
      "text/plain": [
       "Text(0.5, 1.0, 'When Red Cards Occur')"
      ]
     },
     "execution_count": 56,
     "metadata": {},
     "output_type": "execute_result"
    },
    {
     "data": {
      "image/png": "[encoded data removed]",
      "text/plain": [
       "<Figure size 1400x800 with 1 Axes>"
      ]
     },
     "metadata": {},
     "output_type": "display_data"
    }
   ],
   "source": [
    "# Get the yellow cards against time of playing the game\n",
    "fig = plt.figure(figsize=(14,8))\n",
    "plt.hist(red_cards.time, 100, color=\"red\")\n",
    "plt.xlabel(\"Minute  of the Game\")\n",
    "plt.ylabel(\"Red Cards\")\n",
    "plt.title(\"When Red Cards Occur\")"
   ]
  },
  {
   "cell_type": "code",
   "execution_count": 57,
   "id": "4b03aeb6-ea5c-40d3-9c3d-173f50b47382",
   "metadata": {},
   "outputs": [
    {
     "data": {
      "text/plain": [
       "Text(0.5, 1.0, 'When First Yellow Cards Occur')"
      ]
     },
     "execution_count": 57,
     "metadata": {},
     "output_type": "execute_result"
    },
    {
     "data": {
      "image/png": "[encoded data removed]",
      "text/plain": [
       "<Figure size 1400x800 with 1 Axes>"
      ]
     },
     "metadata": {},
     "output_type": "display_data"
    }
   ],
   "source": [
    "# plot the second yellow cards against time of playing the game\n",
    "\n",
    "fig2 = plt.figure(figsize=(14,8))\n",
    "plt.hist(first_yellow_cards.time, 100, color=\"yellow\")\n",
    "plt.xlabel(\"Minute of the Game\")\n",
    "plt.ylabel(\"First Yellow Cards\")\n",
    "plt.title(\"When First Yellow Cards Occur\")"
   ]
  },
  {
   "cell_type": "code",
   "execution_count": 45,
   "id": "6473e095-7106-45a2-bf3e-f74ed7c0be19",
   "metadata": {},
   "outputs": [
    {
     "data": {
      "text/plain": [
       "Text(0.5, 1.0, 'When Second Yellow Cards Occur')"
      ]
     },
     "execution_count": 45,
     "metadata": {},
     "output_type": "execute_result"
    },
    {
     "data": {
      "image/png": "[encoded data removed]",
      "text/plain": [
       "<Figure size 1400x800 with 1 Axes>"
      ]
     },
     "metadata": {},
     "output_type": "display_data"
    }
   ],
   "source": [
    "# plot the red cards against time of playing the game\n",
    "\n",
    "fig3 = plt.figure(figsize=(14,8))\n",
    "plt.hist(second_yellow_cards.time, 100, color=\"yellow\")\n",
    "plt.xlabel(\"Minute of the Game\")\n",
    "plt.ylabel(\"Segunda tarjeta amarilla\")\n",
    "plt.title(\"When Second Yellow Cards Occur\")"
   ]
  },
  {
   "cell_type": "code",
   "execution_count": 59,
   "id": "e2af8323-3dfa-45a8-bd1b-64cdad41336c",
   "metadata": {},
   "outputs": [
    {
     "data": {
      "text/plain": [
       "Text(0.5, 1.0, 'When cards are served')"
      ]
     },
     "execution_count": 59,
     "metadata": {},
     "output_type": "execute_result"
    },
    {
     "data": {
      "image/png": "[encoded data removed]",
      "text/plain": [
       "<Figure size 1400x800 with 1 Axes>"
      ]
     },
     "metadata": {},
     "output_type": "display_data"
    }
   ],
   "source": [
    "# Get the yellow cards against time of playing the game\n",
    "fig4 = plt.figure(figsize=(14,8))                                                            \n",
    "plt.hist(all_cards.time, 100, color=\"orange\")\n",
    "plt.xlabel(\"Minute  of the Game\")\n",
    "plt.ylabel(\"Cards served\")\n",
    "plt.title(\"When cards are served\")"
   ]
  },
  {
   "cell_type": "code",
   "execution_count": 61,
   "id": "2b368594-791a-4d95-a9d0-98a414a21725",
   "metadata": {},
   "outputs": [
    {
     "data": {
      "text/plain": [
       "<AxesSubplot: xlabel='event_type'>"
      ]
     },
     "execution_count": 61,
     "metadata": {},
     "output_type": "execute_result"
    },
    {
     "data": {
      "image/png": "[encoded data removed]",
      "text/plain": [
       "<Figure size 800x800 with 1 Axes>"
      ]
     },
     "metadata": {},
     "output_type": "display_data"
    }
   ],
   "source": [
    "yellow_league = pd.crosstab(index=yellow_cards.event_type, columns=yellow_cards.league)\n",
    "yellow_league.plot(kind='bar', figsize=(8,8))"
   ]
  },
  {
   "cell_type": "markdown",
   "id": "0ee23d46-cf0a-449f-a3b0-6bd7c0f218f9",
   "metadata": {},
   "source": [
    "## Cuando es más probable que marquen gol?"
   ]
  },
  {
   "cell_type": "code",
   "execution_count": 62,
   "id": "926c4f68-e9e7-4b51-8f20-e28faea89bd0",
   "metadata": {},
   "outputs": [
    {
     "data": {
      "text/plain": [
       "Text(0.5, 1.0, 'Number of goals against Time during match')"
      ]
     },
     "execution_count": 62,
     "metadata": {},
     "output_type": "execute_result"
    },
    {
     "data": {
      "image/png": "[encoded data removed]",
      "text/plain": [
       "<Figure size 1400x800 with 1 Axes>"
      ]
     },
     "metadata": {},
     "output_type": "display_data"
    }
   ],
   "source": [
    "goals=df_events[df_events[\"is_goal\"]==1]\n",
    "\n",
    "fig4=plt.figure(figsize=(14,8))\n",
    "plt.hist(goals.time,width=1,bins=100,color=\"green\")   #100 so 1 bar per minute\n",
    "plt.xlabel(\"Minutes\")\n",
    "plt.ylabel(\"Number of goals\")\n",
    "plt.title(\"Number of goals against Time during match\")"
   ]
  },
  {
   "cell_type": "code",
   "execution_count": 84,
   "id": "f3b5bb4d-db24-46f3-a914-4e21fdae0daa",
   "metadata": {},
   "outputs": [],
   "source": [
    "## Loading events dataset\n",
    "df_events1 = pd.read_csv(\"Dataset/events.csv\")\n",
    "## Loading ginf dataset, which has some important data to merge with event dataset\n",
    "df_ginf1 = pd.read_csv(\"Dataset/ginf.csv\")\n",
    "## Selecting only the features I need. `id_odsp` serves as a unique identifier that will be used to \n",
    "## union the 2 datasets\n",
    "## Join the 2 datasets to add 'date', 'league', 'season', and 'country' information to the main dataset\n",
    "df_events1 = df_events1.merge(df_ginf1, how='left')\n",
    "df_events1 = df_events1[['id_odsp', 'id_event', 'league', 'season', 'ht', 'at', 'event_team', 'is_goal']]\n",
    "## Naming the leagues with their popular names.\n",
    "leagues = {'E0': 'Premier League', 'SP1': 'La Liga',\n",
    "          'I1': 'Serie A', 'F1': 'League One', 'D1': 'Bundesliga'}\n",
    "## Apply the mapping\n",
    "df_events1['league'] = df_events1['league'].map(leagues)"
   ]
  },
  {
   "cell_type": "code",
   "execution_count": 85,
   "id": "8b91ad43-afb9-48f2-97f0-c817f9779d6a",
   "metadata": {},
   "outputs": [
    {
     "name": "stdout",
     "output_type": "stream",
     "text": [
      "<class 'pandas.core.frame.DataFrame'>\n",
      "Int64Index: 941009 entries, 0 to 941008\n",
      "Data columns (total 8 columns):\n",
      " #   Column      Non-Null Count   Dtype \n",
      "---  ------      --------------   ----- \n",
      " 0   id_odsp     941009 non-null  object\n",
      " 1   id_event    941009 non-null  object\n",
      " 2   league      941009 non-null  object\n",
      " 3   season      941009 non-null  int64 \n",
      " 4   ht          941009 non-null  object\n",
      " 5   at          941009 non-null  object\n",
      " 6   event_team  941009 non-null  object\n",
      " 7   is_goal     941009 non-null  int64 \n",
      "dtypes: int64(2), object(6)\n",
      "memory usage: 64.6+ MB\n"
     ]
    }
   ],
   "source": [
    "df_events1.info()"
   ]
  },
  {
   "cell_type": "code",
   "execution_count": 86,
   "id": "2fcd5304-81de-4072-a5ff-9adf55d7b4bb",
   "metadata": {},
   "outputs": [],
   "source": [
    "import warnings\n",
    "warnings.filterwarnings('ignore')"
   ]
  },
  {
   "cell_type": "code",
   "execution_count": 87,
   "id": "7d7a4934-e73e-45b3-8829-43fe58a187fb",
   "metadata": {},
   "outputs": [
    {
     "name": "stdout",
     "output_type": "stream",
     "text": [
      "['Bundesliga' 'League One' 'La Liga' 'Serie A' 'Premier League']\n",
      "[2012, 2013, 2014, 2015, 2016, 2017]\n"
     ]
    }
   ],
   "source": [
    "Leagues = df_events1['league'].unique()\n",
    "Seasons = list(df_events1['season'].unique())\n",
    "print(Leagues)\n",
    "print(Seasons)"
   ]
  },
  {
   "cell_type": "code",
   "execution_count": 88,
   "id": "e4f48dc3-a0c6-4b5a-9e8a-3bab6aae41d2",
   "metadata": {},
   "outputs": [
    {
     "data": {
      "text/plain": [
       "array(['Borussia Dortmund', 'FC Augsburg', 'Werder Bremen',\n",
       "       'Hertha Berlin', 'FC Cologne', 'VfB Stuttgart', 'Hannover 96',\n",
       "       'Mainz', 'Bayern Munich', 'Schalke 04', 'TSG Hoffenheim',\n",
       "       'Nurnberg', 'SC Freiburg', 'Hamburg SV',\n",
       "       'Borussia Monchengladbach', 'VfL Wolfsburg', 'Bayer Leverkusen',\n",
       "       'Kaiserslautern'], dtype=object)"
      ]
     },
     "execution_count": 88,
     "metadata": {},
     "output_type": "execute_result"
    }
   ],
   "source": [
    "df_events1[df_events1['league']== 'Bundesliga'][df_events1['season'] == 2012]['ht'].unique()"
   ]
  },
  {
   "cell_type": "code",
   "execution_count": 89,
   "id": "65b5470f-4a16-46d2-ade6-0d1ba6b411d9",
   "metadata": {},
   "outputs": [
    {
     "data": {
      "text/plain": [
       "array(['Borussia Dortmund', 'TSG Hoffenheim', 'Hannover 96',\n",
       "       'Bayern Munich', 'Borussia Monchengladbach', 'SC Freiburg',\n",
       "       'Schalke 04', 'Kaiserslautern'], dtype=object)"
      ]
     },
     "execution_count": 89,
     "metadata": {},
     "output_type": "execute_result"
    }
   ],
   "source": [
    "df_events1[df_events1['league']== 'Bundesliga'][df_events1['season'] == 2012][df_events['player'] == 'felipe santana']['ht'].unique()"
   ]
  },
  {
   "cell_type": "code",
   "execution_count": null,
   "id": "956c8b9a-a9b6-4faf-8806-529307b3e1c3",
   "metadata": {},
   "outputs": [],
   "source": []
  }
 ],
 "metadata": {
  "kernelspec": {
   "display_name": "Python 3 (ipykernel)",
   "language": "python",
   "name": "python3"
  },
  "language_info": {
   "codemirror_mode": {
    "name": "ipython",
    "version": 3
   },
   "file_extension": ".py",
   "mimetype": "text/x-python",
   "name": "python",
   "nbconvert_exporter": "python",
   "pygments_lexer": "ipython3",
   "version": "3.11.0"
  },
  "vscode": {
   "interpreter": {
    "hash": "b976fb5aee03201e123ffb552fb906f51e4b4eaf6954efe640622dc27cea87e0"
   }
  }
 },
 "nbformat": 4,
 "nbformat_minor": 5
}
